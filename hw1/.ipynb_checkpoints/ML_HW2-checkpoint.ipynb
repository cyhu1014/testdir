{
 "cells": [
  {
   "cell_type": "code",
   "execution_count": 4,
   "metadata": {},
   "outputs": [],
   "source": [
    "import pandas as pd\n",
    "import  numpy as np\n",
    "\n",
    "train  = pd.read_csv(\"train.csv\", encoding=\"big5\")\n",
    "test   = pd.read_csv(\"test.csv\", encoding=\"big5\" ,header=None)\n",
    "train_set =[] \n",
    "train_pm25 =[]\n",
    "for i in range (12):\n",
    "    train_set.append([])\n",
    "    train_pm25.append([])\n",
    "    for j in range (20):\n",
    "        train_set[i].append([])\n",
    "        train_pm25[i].append([])\n",
    "        for k in range (24):\n",
    "            train_set[i][j].append([])\n",
    "            train_pm25[i][j].append([])\n",
    "            for l in range (18):\n",
    "                train_set[i][j][k].append([])\n",
    "index = 0\n",
    "for i in range (12):\n",
    "    for j in range (20):\n",
    "        for k in range (24):\n",
    "            for l in range (18):\n",
    "                if(train[str(k)][index]==\"NR\"):\n",
    "                    train_set[i][j][k][l] = 0\n",
    "                else:\n",
    "                    train_set[i][j][k][l]=train[str(k)][index]\n",
    "                if(l == 9):\n",
    "                    train_pm25[i][j][k]=train[str(k)][index]\n",
    "                index+=1\n",
    "            index-=18\n",
    "        index+=18\n",
    "\n",
    "train_set2 = [] #make 20days continus\n",
    "train_p     = [] # pm25 continus\n",
    "\n",
    "for i in range (12):\n",
    "    train_set2.append([])\n",
    "    train_p.append([])\n",
    "    index=0\n",
    "    for j in range (20):\n",
    "        for k in range (24):\n",
    "            train_set2[i].append([])\n",
    "            train_p[i].append([])\n",
    "            for l in range (18):\n",
    "                train_set2[i][index].append(float(train_set[i][j][k][l]))\n",
    "                if(l==9):\n",
    "                    train_p[i][index].append(float(train_set[i][j][k][l]))\n",
    "            index+=1  "
   ]
  },
  {
   "cell_type": "code",
   "execution_count": 52,
   "metadata": {},
   "outputs": [],
   "source": [
    "train_result =[]\n",
    "train_feat = [] #9 days data mean\n",
    "train_label = [] #10 day data\n",
    "train_feat_2d =[]\n",
    "train_label_2d=[]\n",
    "for i in range (12):\n",
    "    train_feat.append([])\n",
    "    for j in range (471):\n",
    "        train_feat[i].append([])\n",
    "        for l in range (18):\n",
    "            temp_mean = 0\n",
    "            for m in range (j,j+9):\n",
    "                temp_mean+=train_set2[i][m][l]\n",
    "            temp_mean/=9\n",
    "            train_feat[i][j].append(temp_mean)\n",
    "            if(l==9):\n",
    "                train_feat_2d.append(temp_mean)\n",
    "for i in range (12):\n",
    "    train_label.append([])\n",
    "    for j in range (9,480):\n",
    "        train_label[i].append(train_p[i][j])\n",
    "        train_label_2d.append(train_p[i][j][0])\n",
    "        if(train_p[i][j]==0):\n",
    "            print(i,j)\n",
    "            \n",
    "                \n",
    "                "
   ]
  },
  {
   "cell_type": "code",
   "execution_count": 208,
   "metadata": {},
   "outputs": [],
   "source": [
    "create_train_result(0.6134642651893928 , 11.276446812581542)"
   ]
  },
  {
   "cell_type": "code",
   "execution_count": null,
   "metadata": {},
   "outputs": [],
   "source": []
  },
  {
   "cell_type": "code",
   "execution_count": 22,
   "metadata": {},
   "outputs": [
    {
     "data": {
      "text/plain": [
       "5652"
      ]
     },
     "execution_count": 22,
     "metadata": {},
     "output_type": "execute_result"
    }
   ],
   "source": [
    "len(train_label_2d)"
   ]
  },
  {
   "cell_type": "code",
   "execution_count": null,
   "metadata": {
    "scrolled": true
   },
   "outputs": [],
   "source": []
  },
  {
   "cell_type": "code",
   "execution_count": 51,
   "metadata": {},
   "outputs": [],
   "source": [
    "def create_train_result(w,b):\n",
    "    for i in range (5652):\n",
    "        train_result.append(w*train_feat_2d[i]+b)\n",
    "    \n",
    "\n",
    "def loss_function_sum (num_data,w,b):\n",
    "    loss=0\n",
    "    w1=0\n",
    "    b1=0\n",
    "    lr_w=0.00000001\n",
    "    lr_b=0.0001\n",
    "    for i in range (num_data):\n",
    "        y=w*train_set_delete[i]+b\n",
    "        loss+=((y-train_label_delete[i])*(y-train_label_delete[i]))\n",
    "\n",
    "        w1+=2*(train_label_delete[i]-y)*(-train_label_delete[i])\n",
    "        b1+=2*(train_label_delete[i]-y)*(-1)\n",
    "    w1=w1*(-1)*lr_w+w\n",
    "    b1=b1*(-1)*lr_b+b\n",
    "    lr_w/=1\n",
    "    lr_b/=1\n",
    "    return loss,w1,b1\n",
    "def loss_validation (w,b):\n",
    "    loss=0\n",
    "    for i in range (5001,5582):\n",
    "        y=w*train_set_delete[i]+b\n",
    "        loss+=((y-train_label_delete[i])*(y-train_label_delete[i]))\n",
    "    \n",
    "    return loss\n",
    "\n"
   ]
  },
  {
   "cell_type": "code",
   "execution_count": 38,
   "metadata": {
    "scrolled": true
   },
   "outputs": [],
   "source": [
    "train_set_delete =[]\n",
    "train_label_delete =[]\n",
    "for i in range (5652):\n",
    "    if(train_feat_2d[i]>100 or train_feat_2d[i] <0 or train_label_2d[i] >100  or train_label_2d[i]<0 ):\n",
    "        continue\n",
    "    train_set_delete.append(train_feat_2d[i])\n",
    "    train_label_delete.append(train_label_2d[i])\n"
   ]
  },
  {
   "cell_type": "code",
   "execution_count": null,
   "metadata": {},
   "outputs": [],
   "source": []
  },
  {
   "cell_type": "code",
   "execution_count": 40,
   "metadata": {},
   "outputs": [
    {
     "name": "stdout",
     "output_type": "stream",
     "text": [
      "112249.89476628881\n",
      "112249.86556623553\n"
     ]
    }
   ],
   "source": [
    "print(loss_validation ( 0.6134642651893928 , 11.276446812581542))# w,b 一樣\n",
    "print(loss_validation (0.6134649770533589 , 11.276404718856707)) #w, b =5  \n"
   ]
  },
  {
   "cell_type": "code",
   "execution_count": 58,
   "metadata": {
    "scrolled": true
   },
   "outputs": [
    {
     "name": "stdout",
     "output_type": "stream",
     "text": [
      "531 1.3621322077499116 , -9.984138862856138 947104.9173148266\n"
     ]
    },
    {
     "data": {
      "text/plain": [
       "151337.8827300505"
      ]
     },
     "execution_count": 58,
     "metadata": {},
     "output_type": "execute_result"
    },
    {
     "data": {
      "image/png": "[encoded data removed]",
      "text/plain": [
       "<Figure size 432x288 with 1 Axes>"
      ]
     },
     "metadata": {},
     "output_type": "display_data"
    }
   ],
   "source": [
    "import matplotlib.pyplot as plt\n",
    "lossfordraw=[]\n",
    "lossvalidation=[]\n",
    "time=0\n",
    "w=5\n",
    "b=5\n",
    "w1=w\n",
    "b1=b\n",
    "(lmin,w1,b1)=loss_function_sum(5000,w,b)\n",
    "\n",
    "for i in range (2000):\n",
    "    (l,w1,b1)=loss_function_sum(5000,w,b)\n",
    "    lossfordraw.append(l)\n",
    "    w=w1\n",
    "    b=b1\n",
    "    if(l<lmin ):\n",
    "        temp=lmin\n",
    "        lmin=l\n",
    "        wmin=w1\n",
    "        bmin=b1\n",
    "        if(temp-l>1):\n",
    "            time=i\n",
    "            #print(w,\"  \",b,\"  \",l)\n",
    "    lossvalidation.append(loss_validation(w,b))\n",
    "print(time,w,\",\",b,l)\n",
    "\n",
    "plt.plot(lossfordraw)\n",
    "plt.plot(lossvalidation)\n",
    "\n",
    "plt.savefig('loss.jpg')\n",
    "loss_validation(w,b)"
   ]
  },
  {
   "cell_type": "code",
   "execution_count": null,
   "metadata": {},
   "outputs": [],
   "source": []
  },
  {
   "cell_type": "code",
   "execution_count": 452,
   "metadata": {},
   "outputs": [],
   "source": []
  },
  {
   "cell_type": "code",
   "execution_count": 14,
   "metadata": {},
   "outputs": [],
   "source": [
    "create_test_submission(0.7997968518157101 , 6.379031073712957)"
   ]
  },
  {
   "cell_type": "code",
   "execution_count": 13,
   "metadata": {},
   "outputs": [],
   "source": [
    "def create_test_submission(w,b):\n",
    "    test_feat= []\n",
    "    test_label=[]\n",
    "    test_title =[]\n",
    "    row=9\n",
    "    for i in range(260):\n",
    "        pm25_mean=0\n",
    "        for j in range(2,11):\n",
    "            pm25_mean+=float(test[j][row])\n",
    "            test_feat.append(pm25_mean/9)\n",
    "        row+=18\n",
    "    test_title.append(\"id\")\n",
    "    test_label.append(\"value\")\n",
    "    for i in range (260):\n",
    "        test_title.append(\"id_\"+str(i))\n",
    "        test_label.append(test_feat[i]*w+b)\n",
    "\n",
    "    df =pd.DataFrame(test_label,test_title)\n",
    "    df.to_csv(\"my_submission.csv\",header=False)"
   ]
  },
  {
   "cell_type": "code",
   "execution_count": null,
   "metadata": {},
   "outputs": [],
   "source": []
  },
  {
   "cell_type": "code",
   "execution_count": null,
   "metadata": {},
   "outputs": [],
   "source": []
  }
 ],
 "metadata": {
  "kernelspec": {
   "display_name": "Python 3",
   "language": "python",
   "name": "python3"
  },
  "language_info": {
   "codemirror_mode": {
    "name": "ipython",
    "version": 3
   },
   "file_extension": ".py",
   "mimetype": "text/x-python",
   "name": "python",
   "nbconvert_exporter": "python",
   "pygments_lexer": "ipython3",
   "version": "3.6.5"
  }
 },
 "nbformat": 4,
 "nbformat_minor": 2
}
