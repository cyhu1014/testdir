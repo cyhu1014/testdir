{
 "cells": [
  {
   "cell_type": "code",
   "execution_count": 301,
   "metadata": {},
   "outputs": [],
   "source": [
    "import pandas as pd\n",
    "import  numpy as np\n",
    "import math\n",
    "\n",
    "train  = pd.read_csv(\"train.csv\", encoding=\"big5\",header=None)\n",
    "test   = pd.read_csv(\"test.csv\", encoding=\"big5\" ,header=None)\n",
    "####take out pm25\n",
    "train_unmodify_pm25=[]\n",
    "index = 10\n",
    "mean_of_all_data=0 \n",
    "for i in range (12):\n",
    "    train_unmodify_pm25.append([])\n",
    "    for j in range (20):\n",
    "        for k in range (3,27):\n",
    "            train_unmodify_pm25[i].append(float(train[k][index]))\n",
    "            mean_of_all_data+=int(train[k][index])\n",
    "        index+=18\n",
    "###remove bad feat <0 or >100\n",
    "mean_of_all_data/=5760\n",
    "for i in range (12):\n",
    "    for j in range (480):\n",
    "        if(train_unmodify_pm25[i][j]<0 or train_unmodify_pm25[i][j]>100):\n",
    "            train_unmodify_pm25[i][j]=mean_of_all_data\n",
    "######remove done\n",
    "###create label and feature \n",
    "train_feat=[]\n",
    "train_label=[]\n",
    "for i in range (12):\n",
    "    for j in range (471):\n",
    "        temp_mean=0\n",
    "        for m in range (j,j+9):\n",
    "            temp_mean+=train_unmodify_pm25[i][m]\n",
    "        temp_mean/=9\n",
    "        train_feat.append(temp_mean)\n",
    "        train_label.append(train_unmodify_pm25[i][j+9])\n",
    "######create train feat label done\n"
   ]
  },
  {
   "cell_type": "code",
   "execution_count": 326,
   "metadata": {
    "scrolled": true
   },
   "outputs": [],
   "source": [
    "def gd (num_data,w,b,lr_w,lr_b):\n",
    "    global train_label,train_feat\n",
    "    loss_square=0\n",
    "    loss=0\n",
    "    w_next=0\n",
    "    b_next=0\n",
    "    for i in range (num_data,num_data+5000):\n",
    "        y=w*train_feat[i]+b\n",
    "        loss+=((y-train_label[i])*(y-train_label[i]))\n",
    "        w_next+=2*(train_label[i]-y)*(-train_label[i])\n",
    "        b_next+=2*(train_label[i]-y)*(-1)\n",
    "    loss_square=math.sqrt(loss/5000)\n",
    "    w_next=w_next*(-1)*lr_w+w\n",
    "    b_next=b_next*(-1)*lr_b+b\n",
    "    lr_w/=1\n",
    "    lr_b/=1\n",
    "    return loss,w_next,b_next,lr_w,lr_b,loss_square\n",
    "\n",
    "def validation (w,b):\n",
    "    global train_label,train_feat\n",
    "    loss=0\n",
    "    for i in range (5001,5652):\n",
    "        y=w*train_feat[i]+b\n",
    "        loss+=((y-train_label[i])*(y-train_label[i]))\n",
    "    loss=math.sqrt(loss/651)\n",
    "    return loss\n",
    "\n",
    "def create_test_submission(w,b):\n",
    "    global train_label,train_feat\n",
    "\n",
    "\n",
    "    test_feat= []\n",
    "    test_label=[]\n",
    "    test_title =[]\n",
    "    row=9\n",
    "    for i in range(260):\n",
    "        pm25_mean=0\n",
    "        for j in range(2,11):\n",
    "            pm25_mean+=float(test[j][row])\n",
    "            test_feat.append(pm25_mean/9)\n",
    "        row+=18\n",
    "    test_title.append(\"id\")\n",
    "    test_label.append(\"value\")\n",
    "    for i in range (260):\n",
    "        test_title.append(\"id_\"+str(i))\n",
    "        test_label.append(test_feat[i]*w+b)\n",
    "\n",
    "    df =pd.DataFrame(test_label,test_title)\n",
    "    df.to_csv(\"my_submission.csv\",header=False)"
   ]
  },
  {
   "cell_type": "code",
   "execution_count": 333,
   "metadata": {
    "scrolled": true
   },
   "outputs": [
    {
     "name": "stdout",
     "output_type": "stream",
     "text": [
      "14.85079727404238 1.0791602076592715 0.6633167456999451 11.684438907376455\n"
     ]
    },
    {
     "data": {
      "image/png": "[encoded data removed]",
      "text/plain": [
       "<Figure size 432x288 with 1 Axes>"
      ]
     },
     "metadata": {},
     "output_type": "display_data"
    }
   ],
   "source": [
    "import matplotlib.pyplot as plt\n",
    "loss_list=[]\n",
    "validation_list=[]\n",
    "\n",
    "\n",
    "(l,w,b,lw,lb)=(0,5,5,0.000000001,0.00000001)\n",
    "for i in range (10000):\n",
    "    ls=0\n",
    "    w_total=0\n",
    "    b_total=0\n",
    "    for j in range(1):\n",
    "        (l,w,b,lw,lb,loss_square)=gd(j,w,b,lw,lb)\n",
    "        w_total+=w\n",
    "        b_total+=b\n",
    "        ls+=loss_square\n",
    "    w_total/=1\n",
    "    b_total/=1\n",
    "    ls/=1\n",
    "    w=w_total\n",
    "    b=b_total\n",
    "    validation_list.append(validation (w,b))\n",
    "    loss_list.append(ls)\n",
    "plt.plot(loss_list)\n",
    "plt.plot(validation_list)\n",
    "plt.savefig('loss.jpg')\n",
    "print (validation (w,b),w,b,ls)\n",
    "create_test_submission(w,b)"
   ]
  },
  {
   "cell_type": "code",
   "execution_count": null,
   "metadata": {},
   "outputs": [],
   "source": []
  },
  {
   "cell_type": "code",
   "execution_count": null,
   "metadata": {},
   "outputs": [],
   "source": []
  },
  {
   "cell_type": "code",
   "execution_count": null,
   "metadata": {},
   "outputs": [],
   "source": []
  }
 ],
 "metadata": {
  "kernelspec": {
   "display_name": "Python 3",
   "language": "python",
   "name": "python3"
  },
  "language_info": {
   "codemirror_mode": {
    "name": "ipython",
    "version": 3
   },
   "file_extension": ".py",
   "mimetype": "text/x-python",
   "name": "python",
   "nbconvert_exporter": "python",
   "pygments_lexer": "ipython3",
   "version": "3.6.5"
  }
 },
 "nbformat": 4,
 "nbformat_minor": 2
}
