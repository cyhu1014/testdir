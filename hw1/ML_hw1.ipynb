{
 "cells": [
  {
   "cell_type": "code",
   "execution_count": 75,
   "metadata": {},
   "outputs": [
    {
     "name": "stdout",
     "output_type": "stream",
     "text": [
      "480\n"
     ]
    }
   ],
   "source": [
    "import pandas as pd\n",
    "import  numpy as np\n",
    "import math\n",
    "\n",
    "train  = pd.read_csv(\"train.csv\", encoding=\"big5\",header=None)\n",
    "test   = pd.read_csv(\"test.csv\", encoding=\"big5\" ,header=None)\n",
    "####take out pm25\n",
    "train_unmodify_pm25=[]\n",
    "index = 10\n",
    "mean_of_all_data=0 \n",
    "mean_num=0\n",
    "for i in range (12):\n",
    "    train_unmodify_pm25.append([])\n",
    "    for j in range (20):\n",
    "        for k in range (3,27):\n",
    "            train_unmodify_pm25[i].append(float(train[k][index]))\n",
    "            if(float(train[k][index]) < 100 and float(train[k][index]) >20):\n",
    "                mean_num+=1    \n",
    "                mean_of_all_data+=int(train[k][index])\n",
    "        index+=18\n",
    "###remove bad feat <0 or >100\n",
    "mean_of_all_data/=3377\n",
    "for i in range (12):\n",
    "    for j in range (480):\n",
    "        if(train_unmodify_pm25[i][j]<20 or train_unmodify_pm25[i][j]>100):\n",
    "            train_unmodify_pm25[i][j]=mean_of_all_data\n",
    "######remove done\n",
    "###create label and feature \n",
    "train_feat=[]\n",
    "train_label=[]\n",
    "for i in range (12):\n",
    "    for j in range (471):\n",
    "        temp_mean=0\n",
    "        for m in range (j,j+9):\n",
    "            temp_mean+=train_unmodify_pm25[i][m]\n",
    "        temp_mean/=9\n",
    "        train_feat.append(temp_mean)\n",
    "        train_label.append(train_unmodify_pm25[i][j+9])\n",
    "######create train feat label done\n",
    "train_feat_2 =[]\n",
    "train_label_2=[]\n",
    "for i in range (12):\n",
    "    if(i==7 or i==8):\n",
    "        continue\n",
    "    index=0\n",
    "    for j in range (48):\n",
    "        temp_mean=0\n",
    "        for k in range(9):\n",
    "            temp_mean+=train_unmodify_pm25[i][index]\n",
    "            index+=1\n",
    "\n",
    "        temp_mean/=9\n",
    "        train_feat_2.append(temp_mean)\n",
    "        train_label_2.append(train_unmodify_pm25[i][index])\n",
    "        index+=1\n",
    "\n",
    "train_feat_3 =[]\n",
    "train_label_3=[]\n",
    "for i in range (12):\n",
    "    if(i==7 or i==8):\n",
    "        continue\n",
    "    index=0\n",
    "    for j in range (40):\n",
    "        temp_mean=0\n",
    "        for k in range(9):\n",
    "            temp_mean+=train_unmodify_pm25[i][index]\n",
    "            index+=1\n",
    "\n",
    "        temp_mean/=9\n",
    "        train_feat_3.append(temp_mean)\n",
    "        train_label_3.append(train_unmodify_pm25[i][index])\n",
    "        index+=3\n",
    "\n",
    "print(index)  \n",
    "\n"
   ]
  },
  {
   "cell_type": "code",
   "execution_count": 201,
   "metadata": {
    "scrolled": true
   },
   "outputs": [],
   "source": [
    "def gd (num_from,num_data,w,b,lr_w,lr_b):\n",
    "    global train_label,train_feat\n",
    "    tl=train_label\n",
    "    tf=train_feat\n",
    "    loss_square=0\n",
    "    loss=0\n",
    "    w_next=0\n",
    "    b_next=0\n",
    "    for i in range (num_from,num_data+num_from):\n",
    "        y=w*tf[i]+b\n",
    "        loss+=((y-tl[i])*(y-tl[i]))\n",
    "        w_next+=2*(tl[i]-y)*(-tl[i])\n",
    "        b_next+=2*(tl[i]-y)*(-1)\n",
    "    loss_square=math.sqrt(loss/num_data)\n",
    "    w_next=w_next*(-1)*lr_w+w\n",
    "    b_next=b_next*(-1)*lr_b+b\n",
    "    lr_w/=1\n",
    "    lr_b/=1\n",
    "    return loss,w_next,b_next,lr_w,lr_b,loss_square\n",
    "\n",
    "def validation (w,b,num_from,num_data):\n",
    "    global train_label,train_feat\n",
    "    loss=0\n",
    "    tl=train_label\n",
    "    tf=train_feat\n",
    "    for i in range (num_from,num_from+num_data):\n",
    "        y=w*tf[i]+b\n",
    "        loss+=((y-tl[i])*(y-tl[i]))\n",
    "    loss=math.sqrt(loss/num_data)\n",
    "    return loss\n",
    "\n",
    "def create_test_submission(w,b):\n",
    "    global train_label,train_feat\n",
    "\n",
    "\n",
    "    test_feat= []\n",
    "    test_label=[]\n",
    "    test_title =[]\n",
    "    row=9\n",
    "    for i in range(260):\n",
    "        pm25_mean=0\n",
    "        for j in range(2,11):\n",
    "            pm25_mean+=float(test[j][row])\n",
    "            test_feat.append(pm25_mean/9)\n",
    "        row+=18\n",
    "    test_title.append(\"id\")\n",
    "    test_label.append(\"value\")\n",
    "    for i in range (260):\n",
    "        test_title.append(\"id_\"+str(i))\n",
    "        test_label.append(test_feat[i]*w+b)\n",
    "\n",
    "    df =pd.DataFrame(test_label,test_title)\n",
    "    df.to_csv(\"my_submission.csv\",header=False)"
   ]
  },
  {
   "cell_type": "code",
   "execution_count": 225,
   "metadata": {
    "scrolled": true
   },
   "outputs": [
    {
     "name": "stdout",
     "output_type": "stream",
     "text": [
      "5764\n",
      "9.841837137997537 0.9204178372344546 4.886244433508198 9.073263501671411\n"
     ]
    },
    {
     "data": {
      "image/png": "[encoded data removed]",
      "text/plain": [
       "<Figure size 432x288 with 1 Axes>"
      ]
     },
     "metadata": {},
     "output_type": "display_data"
    }
   ],
   "source": [
    "import matplotlib.pyplot as plt\n",
    "loss_list=[]\n",
    "validation_list=[]\n",
    "\n",
    "\n",
    "(l,w,b,lw,lb)=(0,5,5,1e-10,1e-10)\n",
    "iteration=0\n",
    "while(True):\n",
    "    iteration+=1\n",
    "    ls=0\n",
    "    w_total=0\n",
    "    b_total=0\n",
    "    num=5000\n",
    "    times=0\n",
    "    for j in range(0,5000,num):\n",
    "        (l,w,b,lw,lb,loss_square)=gd(j,num,w,b,lw,lb)\n",
    "        w_total+=w\n",
    "        b_total+=b\n",
    "        ls+=loss_square\n",
    "        times+=1\n",
    "    w_total/=times\n",
    "    b_total/=times\n",
    "    ls/=times\n",
    "    w=w_total\n",
    "    b=b_total\n",
    "    validation_list.append(validation (w,b,5000,500))\n",
    "    loss_list.append(ls)\n",
    "    if(iteration >10 and loss_list[len(loss_list)-2]-loss_list[len(loss_list)-1]<0.00001):\n",
    "        print(iteration)\n",
    "        break\n",
    "plt.plot(loss_list)\n",
    "plt.plot(validation_list)\n",
    "plt.savefig('loss.jpg')\n",
    "print (validation (w,b,5000,500),w,b,ls)\n",
    "create_test_submission(w,b)"
   ]
  },
  {
   "cell_type": "code",
   "execution_count": 227,
   "metadata": {},
   "outputs": [],
   "source": [
    "from numpy.linalg import inv\n",
    "def min_square_error (num):\n",
    "    global train_label,train_feat\n",
    "    x=train_feat \n",
    "    y=train_label\n",
    "    cons=[]\n",
    "    for i in range (num):\n",
    "        cons.append(1)\n",
    "    a=0    #  [ a b ]\n",
    "    b=0    # [ c d ]\n",
    "    c=0\n",
    "    d=0\n",
    "    ya=0    # [ya]\n",
    "    yb=0    #[yb]\n",
    "    for i in range (num):\n",
    "        temp=x[i]*x[i]\n",
    "        a+=temp\n",
    "        temp=x[i]*cons[i]\n",
    "        b+=temp\n",
    "        c+=temp\n",
    "        temp=cons[i]*cons[i]\n",
    "        d+=temp\n",
    "    for i in range (num):\n",
    "        temp=y[i]*x[i]\n",
    "        ya+=temp\n",
    "        yb+=y[i]\n",
    "    a = np.array([[a, b], [c, d]])\n",
    "    ainv = inv(a)\n",
    "    w=ainv[0][0]*ya+ainv[0][1]*yb\n",
    "    b=ainv[1][0]*ya +ainv[1][1]*yb\n",
    "    print(w,\",\",b)"
   ]
  },
  {
   "cell_type": "code",
   "execution_count": 228,
   "metadata": {},
   "outputs": [
    {
     "name": "stdout",
     "output_type": "stream",
     "text": [
      "0.8289197256755578 , 6.412144212296539\n"
     ]
    }
   ],
   "source": [
    "min_square_error(5000)"
   ]
  },
  {
   "cell_type": "code",
   "execution_count": 219,
   "metadata": {},
   "outputs": [],
   "source": [
    "create_test_submission(0.9738987768074185 ,2.329191647073003)"
   ]
  },
  {
   "cell_type": "code",
   "execution_count": 235,
   "metadata": {},
   "outputs": [
    {
     "data": {
      "text/plain": [
       "11.497387589362091"
      ]
     },
     "execution_count": 235,
     "metadata": {},
     "output_type": "execute_result"
    }
   ],
   "source": [
    "validation(0.8289197256755578 , 6.412144212296539,1,1)"
   ]
  },
  {
   "cell_type": "code",
   "execution_count": 134,
   "metadata": {},
   "outputs": [
    {
     "data": {
      "text/plain": [
       "400"
      ]
     },
     "execution_count": 134,
     "metadata": {},
     "output_type": "execute_result"
    }
   ],
   "source": [
    "len(train_feat_3)"
   ]
  },
  {
   "cell_type": "code",
   "execution_count": 170,
   "metadata": {
    "scrolled": true
   },
   "outputs": [],
   "source": [
    "x_data = train_feat_3\n",
    "y_data = train_label_3\n",
    "x = np.arange(-200,-100,1) #bias\n",
    "y = np.arange(-5,5,0.1) #weight\n",
    "Z =  np.zeros((len(x), len(y)))\n",
    "X, Y = np.meshgrid(x, y)\n",
    "for i in range(len(x)):\n",
    "    for j in range(len(y)):\n",
    "        b = x[i]\n",
    "        w = y[j]\n",
    "        Z[j][i] = 0\n",
    "        for n in range(len(x_data)):\n",
    "            Z[j][i] = Z[j][i] +  (y_data[n] - b - w*x_data[n])**2\n",
    "        Z[j][i] = Z[j][i]/len(x_data)"
   ]
  },
  {
   "cell_type": "code",
   "execution_count": 188,
   "metadata": {
    "scrolled": true
   },
   "outputs": [
    {
     "data": {
      "image/png": "[encoded data removed]",
      "text/plain": [
       "<Figure size 432x288 with 1 Axes>"
      ]
     },
     "metadata": {},
     "output_type": "display_data"
    }
   ],
   "source": [
    "iteration=1000\n",
    "b=5\n",
    "w=5\n",
    "lr=0.000001\n",
    "b_history= [b]\n",
    "w_history= [w]\n",
    "\n",
    "for i in range(iteration):\n",
    "    b_grad = 0.0\n",
    "    w_grad = 0.0\n",
    "    for n in range (len(x_data)):\n",
    "        b_grad = b_grad - 2.0*(y_data[n]-b-w*x_data[n])*1.0\n",
    "        w_grad = w_grad - 2.0*(y_data[n]-b-w*x_data[n])*x_data[n]\n",
    "    b = b-lr * b_grad\n",
    "    w = w-lr * w_grad\n",
    "plt.contourf(x,y,Z, 50,alpha=0.5,cmap=plt.get_cmap('jet'))\n",
    "plt.plot(b_history,'o-',ms=1,lw=1.5,color='black')\n",
    "plt.xlabel(r'$b$',fontsize=16)\n",
    "plt.ylabel(r'$w$',fontsize=16)\n",
    "plt.show()"
   ]
  },
  {
   "cell_type": "code",
   "execution_count": null,
   "metadata": {},
   "outputs": [],
   "source": [
    "index = 10\n",
    "pm25= []\n",
    "new_index=0\n",
    "for i in range (12):\n",
    "    for j in range (20):\n",
    "        pm25.append([])\n",
    "        for k in range (0,27):\n",
    "            pm25[new_index].append(train[k][index])\n",
    "        index+=18\n",
    "        new_index+=1\n",
    "df =pd.DataFrame(pm25)\n",
    "df.to_csv(\"pm25.csv\",header=False)"
   ]
  },
  {
   "cell_type": "code",
   "execution_count": null,
   "metadata": {},
   "outputs": [],
   "source": []
  }
 ],
 "metadata": {
  "kernelspec": {
   "display_name": "Python 3",
   "language": "python",
   "name": "python3"
  },
  "language_info": {
   "codemirror_mode": {
    "name": "ipython",
    "version": 3
   },
   "file_extension": ".py",
   "mimetype": "text/x-python",
   "name": "python",
   "nbconvert_exporter": "python",
   "pygments_lexer": "ipython3",
   "version": "3.6.5"
  }
 },
 "nbformat": 4,
 "nbformat_minor": 2
}
