{
 "cells": [
  {
   "cell_type": "code",
   "execution_count": 114,
   "metadata": {},
   "outputs": [],
   "source": [
    "import pandas as pd\n",
    "import  numpy as np\n",
    "import math\n",
    "\n",
    "train  = pd.read_csv(\"train.csv\", encoding=\"big5\",header=None)\n",
    "test   = pd.read_csv(\"test.csv\", encoding=\"big5\" ,header=None)\n",
    "####take out pm25\n",
    "train_unmodify_pm25=[]\n",
    "index = 10\n",
    "mean_of_all_data=0 \n",
    "mean_num=0\n",
    "for i in range (12):\n",
    "    train_unmodify_pm25.append([])\n",
    "    for j in range (20):\n",
    "        for k in range (3,27):\n",
    "            train_unmodify_pm25[i].append(float(train[k][index]))\n",
    "            if(float(train[k][index]) < 100 and float(train[k][index]) >0):\n",
    "                mean_num+=1    \n",
    "                mean_of_all_data+=int(train[k][index])\n",
    "        index+=18\n",
    "###remove bad feat <0 or >100\n",
    "mean_of_all_data/=5618\n",
    "for i in range (12):\n",
    "    for j in range (480):\n",
    "        if(train_unmodify_pm25[i][j]<0 or train_unmodify_pm25[i][j]>100):\n",
    "            train_unmodify_pm25[i][j]=mean_of_all_data\n",
    "######remove done\n",
    "###create label and feature \n",
    "train_feat=[]\n",
    "train_label=[]\n",
    "for i in range (12):\n",
    "    for j in range (471):\n",
    "        temp_mean=0\n",
    "        for m in range (j,j+9):\n",
    "            temp_mean+=train_unmodify_pm25[i][m]\n",
    "        temp_mean/=9\n",
    "        train_feat.append(temp_mean)\n",
    "        train_label.append(train_unmodify_pm25[i][j+9])\n",
    "######create train feat label done\n",
    "train_feat_2 =[]\n",
    "train_label_2=[]\n",
    "for i in range (12):\n",
    "    if(i==7 or i==8):\n",
    "        continue\n",
    "    index=0\n",
    "    for j in range (48):\n",
    "        temp_mean=0\n",
    "        for k in range(9):\n",
    "            temp_mean+=train_unmodify_pm25[i][index]\n",
    "            index+=1\n",
    "        temp_mean/=9\n",
    "        train_feat_2.append(temp_mean)\n",
    "        train_label_2.append(train_unmodify_pm25[i][index])\n",
    "        index+=1\n",
    "    \n",
    "            \n",
    "\n"
   ]
  },
  {
   "cell_type": "code",
   "execution_count": 143,
   "metadata": {
    "scrolled": true
   },
   "outputs": [],
   "source": [
    "def gd (num_data,w,b,lr_w,lr_b):\n",
    "    global train_label,train_feat\n",
    "    tl=train_label_2\n",
    "    tf=train_feat_2\n",
    "    loss_square=0\n",
    "    loss=0\n",
    "    w_next=0\n",
    "    b_next=0\n",
    "    for i in range (num_data,num_data+50):\n",
    "        y=w*tf[i]+b\n",
    "        loss+=((y-tl[i])*(y-tl[i]))\n",
    "        w_next+=2*(tl[i]-y)*(-tl[i])\n",
    "        b_next+=2*(tl[i]-y)*(-1)\n",
    "    loss_square=math.sqrt(loss/50)\n",
    "    w_next=w_next*(-1)*lr_w+w\n",
    "    b_next=b_next*(-1)*lr_b+b\n",
    "    lr_w/=1\n",
    "    lr_b/=1\n",
    "    return loss,w_next,b_next,lr_w,lr_b,loss_square\n",
    "\n",
    "def validation (w,b):\n",
    "    global train_label,train_feat\n",
    "    loss=0\n",
    "    tl=train_label_2\n",
    "    tf=train_feat_2\n",
    "    for i in range (401,480):\n",
    "        y=w*tf[i]+b\n",
    "        loss+=((y-tl[i])*(y-tl[i]))\n",
    "    loss=math.sqrt(loss/80)\n",
    "    return loss\n",
    "\n",
    "def create_test_submission(w,b):\n",
    "    global train_label,train_feat\n",
    "\n",
    "\n",
    "    test_feat= []\n",
    "    test_label=[]\n",
    "    test_title =[]\n",
    "    row=9\n",
    "    for i in range(260):\n",
    "        pm25_mean=0\n",
    "        for j in range(2,11):\n",
    "            pm25_mean+=float(test[j][row])\n",
    "            test_feat.append(pm25_mean/9)\n",
    "        row+=18\n",
    "    test_title.append(\"id\")\n",
    "    test_label.append(\"value\")\n",
    "    for i in range (260):\n",
    "        test_title.append(\"id_\"+str(i))\n",
    "        test_label.append(test_feat[i]*w+b)\n",
    "\n",
    "    df =pd.DataFrame(test_label,test_title)\n",
    "    df.to_csv(\"my_submission.csv\",header=False)"
   ]
  },
  {
   "cell_type": "code",
   "execution_count": 154,
   "metadata": {
    "scrolled": true
   },
   "outputs": [
    {
     "name": "stdout",
     "output_type": "stream",
     "text": [
      "14.754188820192702 1.2089431515010436 -5.0189990038629855 11.369229621494172\n"
     ]
    },
    {
     "data": {
      "image/png": "[encoded data removed]",
      "text/plain": [
       "<Figure size 432x288 with 1 Axes>"
      ]
     },
     "metadata": {},
     "output_type": "display_data"
    }
   ],
   "source": [
    "import matplotlib.pyplot as plt\n",
    "loss_list=[]\n",
    "validation_list=[]\n",
    "\n",
    "\n",
    "(l,w,b,lw,lb)=(0,0.95,-5,0.00001,0.00001)\n",
    "for i in range (5):\n",
    "    ls=0\n",
    "    w_total=0\n",
    "    b_total=0\n",
    "    for j in range(0,400,50):\n",
    "        (l,w,b,lw,lb,loss_square)=gd(j,w,b,lw,lb)\n",
    "        w_total+=w\n",
    "        b_total+=b\n",
    "        ls+=loss_square\n",
    "    w_total/=8\n",
    "    b_total/=8\n",
    "    ls/=8\n",
    "    w=w_total\n",
    "    b=b_total\n",
    "    validation_list.append(validation (w,b))\n",
    "    loss_list.append(ls)\n",
    "plt.plot(loss_list)\n",
    "plt.plot(validation_list)\n",
    "plt.savefig('loss.jpg')\n",
    "print (validation (w,b),w,b,ls)\n",
    "create_test_submission(w,b)"
   ]
  },
  {
   "cell_type": "markdown",
   "metadata": {},
   "source": [
    "## "
   ]
  },
  {
   "cell_type": "code",
   "execution_count": 122,
   "metadata": {},
   "outputs": [],
   "source": [
    "from numpy.linalg import inv\n",
    "def min_square_error ():\n",
    "    global train_label_2,train_feat_2\n",
    "    x=train_feat_2  \n",
    "    y=train_label_2\n",
    "    cons=[]\n",
    "    for i in range (400):\n",
    "        cons.append(1)\n",
    "    a=0    #  [ a b ]\n",
    "    b=0    # [ c d ]\n",
    "    c=0\n",
    "    d=0\n",
    "    ya=0    # [ya]\n",
    "    yb=0    #[yb]\n",
    "    for i in range (0,400):\n",
    "        temp=x[i]*x[i]\n",
    "        a+=temp\n",
    "        temp=x[i]*cons[i]\n",
    "        b+=temp\n",
    "        c+=temp\n",
    "        temp=cons[i]*cons[i]\n",
    "        d+=temp\n",
    "    for i in range (0,400):\n",
    "        temp=y[i]*x[i]\n",
    "        ya+=temp\n",
    "        yb+=y[i]\n",
    "    a = np.array([[a, b], [c, d]])\n",
    "    ainv = inv(a)\n",
    "    w=ainv[0][0]*ya+ainv[0][1]*yb\n",
    "    b=ainv[1][0]*ya +ainv[1][1]*yb\n",
    "    print(w,b)"
   ]
  },
  {
   "cell_type": "code",
   "execution_count": 123,
   "metadata": {},
   "outputs": [
    {
     "name": "stdout",
     "output_type": "stream",
     "text": [
      "0.8870830334726394 3.1568495917968846\n"
     ]
    }
   ],
   "source": [
    "min_square_error()"
   ]
  },
  {
   "cell_type": "code",
   "execution_count": 91,
   "metadata": {},
   "outputs": [],
   "source": [
    "create_test_submission(0.8802417868129782,2.990372273319224)"
   ]
  },
  {
   "cell_type": "code",
   "execution_count": 124,
   "metadata": {},
   "outputs": [
    {
     "data": {
      "text/plain": [
       "13.641591789565307"
      ]
     },
     "execution_count": 124,
     "metadata": {},
     "output_type": "execute_result"
    }
   ],
   "source": [
    "validation(0.8870830334726394 ,3.1568495917968846)"
   ]
  },
  {
   "cell_type": "code",
   "execution_count": 108,
   "metadata": {},
   "outputs": [
    {
     "data": {
      "text/plain": [
       "480"
      ]
     },
     "execution_count": 108,
     "metadata": {},
     "output_type": "execute_result"
    }
   ],
   "source": [
    "len(train_feat_2)"
   ]
  },
  {
   "cell_type": "code",
   "execution_count": null,
   "metadata": {},
   "outputs": [],
   "source": []
  }
 ],
 "metadata": {
  "kernelspec": {
   "display_name": "Python 3",
   "language": "python",
   "name": "python3"
  },
  "language_info": {
   "codemirror_mode": {
    "name": "ipython",
    "version": 3
   },
   "file_extension": ".py",
   "mimetype": "text/x-python",
   "name": "python",
   "nbconvert_exporter": "python",
   "pygments_lexer": "ipython3",
   "version": "3.6.5"
  }
 },
 "nbformat": 4,
 "nbformat_minor": 2
}
