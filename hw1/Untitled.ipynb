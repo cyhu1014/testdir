{
 "cells": [
  {
   "cell_type": "code",
   "execution_count": 364,
   "metadata": {},
   "outputs": [],
   "source": [
    "import pandas as pd\n",
    "import  numpy as np\n",
    "\n",
    "train  = pd.read_csv(\"train.csv\", encoding=\"big5\")\n",
    "test   = pd.read_csv(\"test.csv\", encoding=\"big5\" ,header=None)\n",
    "train_set =[]#month , day ,time ,kind\n",
    "train_pm25 =[]\n",
    "for i in range (12):\n",
    "    train_set.append([])\n",
    "    train_pm25.append([])\n",
    "    for j in range (20):\n",
    "        train_set[i].append([])\n",
    "        train_pm25[i].append([])\n",
    "        for k in range (24):\n",
    "            train_set[i][j].append([])\n",
    "            train_pm25[i][j].append([])\n",
    "            for l in range (18):\n",
    "                train_set[i][j][k].append([])\n",
    "index = 0\n",
    "for i in range (12):\n",
    "    for j in range (20):\n",
    "        for k in range (24):\n",
    "            for l in range (18):\n",
    "                if(train[str(k)][index]==\"NR\"):\n",
    "                    train_set[i][j][k][l] = 0\n",
    "                else:\n",
    "                    train_set[i][j][k][l]=train[str(k)][index]\n",
    "                if(l == 9):\n",
    "                    train_pm25[i][j][k]=train[str(k)][index]\n",
    "                index+=1\n",
    "            index-=18\n",
    "        index+=18\n",
    "\n",
    "train_set2 = [] #make 20days continus\n",
    "train_p     = [] # pm25 continus\n",
    "\n",
    "for i in range (12):\n",
    "    train_set2.append([])\n",
    "    train_p.append([])\n",
    "    index=0\n",
    "    for j in range (20):\n",
    "        for k in range (24):\n",
    "            train_set2[i].append([])\n",
    "            train_p[i].append([])\n",
    "            for l in range (18):\n",
    "                train_set2[i][index].append(float(train_set[i][j][k][l]))\n",
    "                if(l==9):\n",
    "                    train_p[i][index].append(float(train_set[i][j][k][l]))\n",
    "            index+=1  "
   ]
  },
  {
   "cell_type": "code",
   "execution_count": 250,
   "metadata": {},
   "outputs": [],
   "source": [
    "train_feat = [] #9 days data mean\n",
    "train_label = [] #10 day data\n",
    "train_feat_2d =[]\n",
    "train_label_2d=[]\n",
    "for i in range (12):\n",
    "    train_feat.append([])\n",
    "    for j in range (472):\n",
    "        train_feat[i].append([])\n",
    "        for l in range (18):\n",
    "            temp_mean = 0\n",
    "            for m in range (j,j+9):\n",
    "                temp_mean+=train_set2[i][m][l]\n",
    "            temp_mean/=9\n",
    "            train_feat[i][j].append(temp_mean)\n",
    "            if(l==9):\n",
    "                train_feat_2d.append(temp_mean)\n",
    "for i in range (12):\n",
    "    train_label.append([])\n",
    "    for j in range (9,480):\n",
    "        train_label[i].append(train_p[i][j])\n",
    "        train_label_2d.append(train_p[i][j][0])\n",
    "        if(train_p[i][j]==0):\n",
    "            print(i,j)\n",
    "            \n",
    "                \n",
    "                "
   ]
  },
  {
   "cell_type": "code",
   "execution_count": null,
   "metadata": {},
   "outputs": [],
   "source": []
  },
  {
   "cell_type": "code",
   "execution_count": null,
   "metadata": {},
   "outputs": [],
   "source": []
  },
  {
   "cell_type": "code",
   "execution_count": null,
   "metadata": {},
   "outputs": [],
   "source": []
  },
  {
   "cell_type": "code",
   "execution_count": 502,
   "metadata": {},
   "outputs": [],
   "source": [
    "def loss_function_sum (num_data,w,b):\n",
    "    loss=0\n",
    "    w1=0\n",
    "    b1=0\n",
    "    for i in range (num_data):\n",
    "        y=w*train_feat_2d[i]+b\n",
    "        loss+=((y-train_label_2d[i])*(y-train_label_2d[i]))\n",
    "        w1+=2*(train_label_2d[i]-y)*(-train_feat_2d[i])\n",
    "        b1+=2*(train_label_2d[i]-y)*(-1)\n",
    "    \n",
    "    w1=w1*(-0.0000001)+w\n",
    "    b1=b1*(-0.0001)+b\n",
    "    lossfordraw.append(loss)\n",
    "    return loss,w1,b1\n",
    "def loss_validation (w,b):\n",
    "    loss=0\n",
    "    for i in range (3000,4000):\n",
    "        y=w*train_feat_2d[i]+b\n",
    "        loss+=((y-train_label_2d[i])*(y-train_label_2d[i]))\n",
    "    return loss\n"
   ]
  },
  {
   "cell_type": "code",
   "execution_count": 327,
   "metadata": {
    "scrolled": true
   },
   "outputs": [],
   "source": []
  },
  {
   "cell_type": "code",
   "execution_count": 505,
   "metadata": {},
   "outputs": [
    {
     "name": "stdout",
     "output_type": "stream",
     "text": [
      "152178.20503477272\n",
      "145698.60652580755\n"
     ]
    }
   ],
   "source": [
    "print(loss_validation ( 1.009276402601133,-0.46058739145782013))\n",
    "print(loss_validation (0.9255787327167102 ,1.9663611814096795))\n"
   ]
  },
  {
   "cell_type": "code",
   "execution_count": 503,
   "metadata": {},
   "outputs": [
    {
     "name": "stdout",
     "output_type": "stream",
     "text": [
      "99 0.9255787327167102 1.9663611814096795\n"
     ]
    },
    {
     "data": {
      "image/png": "[encoded data removed]",
      "text/plain": [
       "<Figure size 432x288 with 1 Axes>"
      ]
     },
     "metadata": {},
     "output_type": "display_data"
    }
   ],
   "source": [
    "import matplotlib.pyplot as plt\n",
    "lossfordraw=[]\n",
    "time=0\n",
    "w=5\n",
    "b=5\n",
    "w1=w\n",
    "b1=b\n",
    "(lmin,w1,b1)=loss_function_sum(1000,w,b)\n",
    "for i in range (100):\n",
    "    (l,w1,b1)=loss_function_sum(1000,w,b)\n",
    "    w=w1\n",
    "    b=b1\n",
    "    if(l<lmin):\n",
    "        time=i\n",
    "        wmin=w1\n",
    "        bmin=b1   \n",
    "print(time,wmin,bmin)\n",
    "plt.plot(lossfordraw)\n",
    "plt.savefig('loss.jpg')"
   ]
  },
  {
   "cell_type": "code",
   "execution_count": null,
   "metadata": {},
   "outputs": [],
   "source": []
  },
  {
   "cell_type": "code",
   "execution_count": 452,
   "metadata": {},
   "outputs": [],
   "source": []
  },
  {
   "cell_type": "code",
   "execution_count": 454,
   "metadata": {},
   "outputs": [],
   "source": []
  },
  {
   "cell_type": "code",
   "execution_count": 444,
   "metadata": {},
   "outputs": [],
   "source": [
    "test_feat= []\n",
    "test_label=[]\n",
    "test_title =[]\n",
    "row=9\n",
    "for i in range(260):\n",
    "    pm25_mean=0\n",
    "    for j in range(2,11):\n",
    "        pm25_mean+=float(test[j][row])\n",
    "    test_feat.append(pm25_mean/9)\n",
    "    row+=18\n",
    "test_title.append(\"id\")\n",
    "test_label.append(\"value\")\n",
    "for i in range (260):\n",
    "    test_title.append(\"id_\"+str(i))\n",
    "    test_label.append(test_feat[i]*0.8692665473842838+7.600521282753978)\n",
    "df =pd.DataFrame(test_label,test_title)\n",
    "df.to_csv(\"my_submission.csv\",header=False)"
   ]
  },
  {
   "cell_type": "code",
   "execution_count": null,
   "metadata": {},
   "outputs": [],
   "source": []
  },
  {
   "cell_type": "code",
   "execution_count": null,
   "metadata": {},
   "outputs": [],
   "source": []
  }
 ],
 "metadata": {
  "kernelspec": {
   "display_name": "Python 3",
   "language": "python",
   "name": "python3"
  },
  "language_info": {
   "codemirror_mode": {
    "name": "ipython",
    "version": 3
   },
   "file_extension": ".py",
   "mimetype": "text/x-python",
   "name": "python",
   "nbconvert_exporter": "python",
   "pygments_lexer": "ipython3",
   "version": "3.6.5"
  }
 },
 "nbformat": 4,
 "nbformat_minor": 2
}
