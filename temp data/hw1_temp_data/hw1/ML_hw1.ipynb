{
 "cells": [
  {
   "cell_type": "code",
   "execution_count": 207,
   "metadata": {},
   "outputs": [
    {
     "name": "stdout",
     "output_type": "stream",
     "text": [
      "12 480\n",
      "4 576 576\n",
      "5181 5181\n"
     ]
    }
   ],
   "source": [
    "import pandas as pd\n",
    "import  numpy as np\n",
    "import math\n",
    "\n",
    "train  = pd.read_csv(\"train.csv\", encoding=\"big5\",header=None)\n",
    "test   = pd.read_csv(\"test.csv\", encoding=\"big5\" ,header=None)\n",
    "####take out pm25\n",
    "train_unmodify_pm25=[]\n",
    "index = 10\n",
    "mean_of_all_data=0 \n",
    "mean_num=0\n",
    "for i in range (12):\n",
    "    train_unmodify_pm25.append([])\n",
    "    for j in range (20):\n",
    "        for k in range (3,27):\n",
    "            train_unmodify_pm25[i].append(float(train[k][index]))\n",
    "            if(float(train[k][index]) > 0 and  float(train[k][index]) < 100 ):\n",
    "                mean_num+=1    \n",
    "                mean_of_all_data+=int(train[k][index])\n",
    "        index+=18\n",
    "print(len(train_unmodify_pm25),len(train_unmodify_pm25[0]))\n",
    "mean_of_all_data/=mean_num\n",
    "###remove bad feat <0 or >100\n",
    "###train_4 create \n",
    "train_label_4 =[]\n",
    "train_feat_4 = []\n",
    "data_num =9\n",
    "for i in range (12):\n",
    "    index=0\n",
    "    for j in range (480//(data_num+1)):\n",
    "        temp_mean=0\n",
    "        num=0\n",
    "        for k in range (data_num):\n",
    "            if (train_unmodify_pm25[i][index] > 0 and train_unmodify_pm25[i][index] < 100 ) :\n",
    "                temp_mean+=train_unmodify_pm25[i][index]\n",
    "                num+=1\n",
    "            index+=1\n",
    "        if(num==0):\n",
    "            temp_mean=mean_of_all_data\n",
    "        else:\n",
    "            temp_mean/=num\n",
    "        train_feat_4.append(temp_mean)\n",
    "        train_label_4.append(train_unmodify_pm25[i][index])\n",
    "        index+=1\n",
    "print(4,len(train_label_4),len(train_feat_4))     \n",
    "                \n",
    "###train_4 done \n",
    "\n",
    "train_modify_pm25=[]\n",
    "for i in range (12):\n",
    "    train_modify_pm25.append([])\n",
    "    for j in range (480):\n",
    "        if(train_unmodify_pm25[i][j]<0 or train_unmodify_pm25[i][j]>100):\n",
    "            train_modify_pm25[i].append(mean_of_all_data)\n",
    "        else:\n",
    "            train_modify_pm25[i].append(train_unmodify_pm25[i][j])\n",
    "######remove done\n",
    "###create label and feature \n",
    "train_feat=[]\n",
    "train_label=[]\n",
    "for i in range (12):\n",
    "    if(i ==7):\n",
    "        continue\n",
    "    for j in range (471):\n",
    "        temp_mean=0\n",
    "        for m in range (j,j+5):\n",
    "            temp_mean+=train_modify_pm25[i][m]\n",
    "        temp_mean/=9\n",
    "        train_feat.append(temp_mean)\n",
    "        train_label.append(train_modify_pm25[i][j+5])\n",
    "######create train feat label done\n",
    "train_feat_2 =[]\n",
    "train_label_2=[]\n",
    "train_label_2_true=[]\n",
    "\n",
    "for i in range (12):\n",
    "    index=9\n",
    "    if(i==7):\n",
    "        continue\n",
    "    for j in range (48):\n",
    "\n",
    "        train_label_2_true.append(train_modify_pm25[i][index])\n",
    "        index+=10\n",
    "        \n",
    "for i in range (12):\n",
    "    if(i==7 ):\n",
    "        continue\n",
    "    index=0\n",
    "    for j in range (80):\n",
    "        temp_mean=0\n",
    "        for k in range(5):\n",
    "            temp_mean+=train_modify_pm25[i][index]\n",
    "            index+=1\n",
    "        temp_mean/=5\n",
    "        train_feat_2.append(temp_mean)\n",
    "        train_label_2.append(train_modify_pm25[i][index])\n",
    "        index+=1\n",
    "\n",
    "train_feat_3 =[]\n",
    "train_label_3=[]\n",
    "for i in range (12):\n",
    "    if(i==7 or i==8):\n",
    "        continue\n",
    "    index=0\n",
    "    for j in range (40):\n",
    "        temp_mean=0\n",
    "        for k in range(9):\n",
    "            temp_mean+=train_modify_pm25[i][index]\n",
    "            index+=1\n",
    "\n",
    "        temp_mean/=9\n",
    "        train_feat_3.append(temp_mean)\n",
    "        train_label_3.append(train_modify_pm25[i][index])\n",
    "        index+=3\n",
    "\n",
    "print(len(train_feat),len(train_label)  )\n",
    "\n"
   ]
  },
  {
   "cell_type": "code",
   "execution_count": 172,
   "metadata": {
    "scrolled": true
   },
   "outputs": [],
   "source": [
    "def gd (w,b,lr_w,lr_b):\n",
    "    global tl,tf,iteration,ada\n",
    "    ada+=iteration**2\n",
    "    sqrt_ada =math.sqrt(ada)\n",
    "    length=len(tl)*9//10\n",
    "    loss_square=0\n",
    "    loss=0\n",
    "    w_next=0\n",
    "    b_next=0\n",
    "    for i in range (0,length):\n",
    "        y=w*tf[i]+b\n",
    "        loss+=((y-tl[i])*(y-tl[i]))\n",
    "        w_next+=2*(tl[i]-y)*(-tl[i])\n",
    "        b_next+=2*(tl[i]-y)*(-1)\n",
    "    loss_square=math.sqrt(loss/length)\n",
    "    w_next=w_next*(-1)*lr_w/sqrt_ada+w\n",
    "    b_next=b_next*(-1)*lr_b/sqrt_ada+b\n",
    "    lr_w/=1\n",
    "    lr_b/=1\n",
    "    return loss,w_next,b_next,lr_w,lr_b,loss_square\n",
    "\n",
    "def validation (w,b):\n",
    "    global tl,tf\n",
    "    loss_train=0\n",
    "    loss_val=0\n",
    "    length=len(tl)*9//10\n",
    "    num_data=len(tl)-length\n",
    "    for i in range (length):\n",
    "        y=w*tf[i]+b\n",
    "        loss_train+=((y-tl[i])*(y-tl[i]))\n",
    "    loss_train=math.sqrt(loss_train/length)\n",
    "    for i in range (length,len(tl)):\n",
    "        y=w*tf[i]+b\n",
    "        loss_val+=((y-tl[i])*(y-tl[i]))\n",
    "    loss_val=math.sqrt(loss_val/num_data)\n",
    "    return loss_train,loss_val\n",
    "\n",
    "def create_test_submission(w,b):\n",
    "\n",
    "\n",
    "\n",
    "    test_feat= []\n",
    "    test_label=[]\n",
    "    test_title =[]\n",
    "    row=9\n",
    "    for i in range(260):\n",
    "        pm25_mean=0\n",
    "        for j in range(2,11):\n",
    "            pm25_mean+=float(test[j][row])\n",
    "            test_feat.append(pm25_mean/9)\n",
    "        row+=18\n",
    "    test_title.append(\"id\")\n",
    "    test_label.append(\"value\")\n",
    "    for i in range (260):\n",
    "        test_title.append(\"id_\"+str(i))\n",
    "        test_label.append(test_feat[i]*w+b)\n",
    "\n",
    "    df =pd.DataFrame(test_label,test_title)\n",
    "    df.to_csv(\"my_submission.csv\",header=False)"
   ]
  },
  {
   "cell_type": "code",
   "execution_count": 189,
   "metadata": {},
   "outputs": [],
   "source": [
    "\n",
    "tl=train_label\n",
    "tf=train_feat\n",
    "\n"
   ]
  },
  {
   "cell_type": "code",
   "execution_count": 174,
   "metadata": {
    "scrolled": true
   },
   "outputs": [
    {
     "name": "stdout",
     "output_type": "stream",
     "text": [
      "1 1805\n",
      "(11.621002902766786, 15.761951542552316) 1.0093955391176874 2.9106907282798433 11.621002912751676\n"
     ]
    },
    {
     "data": {
      "image/png": "[encoded data removed]",
      "text/plain": [
       "<Figure size 432x288 with 1 Axes>"
      ]
     },
     "metadata": {},
     "output_type": "display_data"
    }
   ],
   "source": [
    "import matplotlib.pyplot as plt\n",
    "\n",
    "\n",
    "loss_list=[]\n",
    "validation_list=[]\n",
    "num=len(tl)*9//10\n",
    "(l,w,b,lw,lb)=(0,1, 3,1e-5,1e-5)\n",
    "iteration=1\n",
    "ada=0\n",
    "for i in range (100000):\n",
    "    if(iteration%1000==0):\n",
    "        print(iteration//1000,end=\" \")\n",
    "    iteration+=1\n",
    "    ls=0\n",
    "    w_total=0\n",
    "    b_total=0\n",
    "    times=0\n",
    "    for j in range(1):\n",
    "        (l,w,b,lw,lb,loss_square)=gd(w,b,lw,lb)\n",
    "        w_total+=w\n",
    "        b_total+=b\n",
    "        ls+=loss_square\n",
    "        times+=1\n",
    "    w_total/=times\n",
    "    b_total/=times\n",
    "    ls/=times\n",
    "    w=w_total\n",
    "    b=b_total\n",
    "    validation_list.append(validation (w,b))\n",
    "    loss_list.append(ls)\n",
    "    if(iteration >10 and loss_list[len(loss_list)-2]-loss_list[len(loss_list)-1]<0.00000001):\n",
    "        print(iteration)\n",
    "        break\n",
    "plt.plot(loss_list,color=\"orange\")\n",
    "plt.plot(validation_list)\n",
    "plt.savefig('loss.jpg')\n",
    "print (validation (w,b),w,b,ls)\n",
    "create_test_submission(w,b)"
   ]
  },
  {
   "cell_type": "code",
   "execution_count": 185,
   "metadata": {},
   "outputs": [],
   "source": [
    "from numpy.linalg import inv\n",
    "def min_square_error ():\n",
    "    global tl,tf\n",
    "    x=tf\n",
    "    x=tf[:len(x)*9//10]\n",
    "    y=tl[:len(x)*9//10]\n",
    "    length=(len(x)*9//10)\n",
    "    cons=[]\n",
    "    for i in range (length):\n",
    "        cons.append(1)\n",
    "\n",
    "    a=0    #  [ a b ]\n",
    "    b=0    # [ c d ]\n",
    "    c=0\n",
    "    d=0\n",
    "    ya=0    # [ya]\n",
    "    yb=0    #[yb]\n",
    "    for i in range (length):\n",
    "        temp=x[i]*x[i]\n",
    "        a+=temp\n",
    "        temp=x[i]*cons[i]\n",
    "        b+=temp\n",
    "        c+=temp\n",
    "        temp=cons[i]*cons[i]\n",
    "        d+=temp\n",
    "    for i in range (length):\n",
    "        temp=y[i]*x[i]\n",
    "        ya+=temp\n",
    "        yb+=y[i]\n",
    "    a = np.array([[a, b], [c, d]])\n",
    "    ainv = inv(a)\n",
    "    w=ainv[0][0]*ya+ainv[0][1]*yb\n",
    "    b=ainv[1][0]*ya +ainv[1][1]*yb\n",
    "    print(w,\",\",b)\n",
    "    print(validation(w , b))"
   ]
  },
  {
   "cell_type": "code",
   "execution_count": 199,
   "metadata": {},
   "outputs": [
    {
     "name": "stdout",
     "output_type": "stream",
     "text": [
      "1.6174429780060375 , 2.7021448180247205\n",
      "(9.969555813437065, 12.130219203879824)\n"
     ]
    }
   ],
   "source": [
    "min_square_error()\n"
   ]
  },
  {
   "cell_type": "code",
   "execution_count": 198,
   "metadata": {},
   "outputs": [],
   "source": [
    "create_test_submission(1.6174429780060375 , 2.7021448180247205)"
   ]
  },
  {
   "cell_type": "code",
   "execution_count": 26,
   "metadata": {
    "collapsed": true
   },
   "outputs": [
    {
     "name": "stdout",
     "output_type": "stream",
     "text": [
      "0 1 2 3 4 5 6 7 8 9 10 11 12 13 14 15 16 17 18 19 20 21 22 23 24 25 26 27 28 29 30 31 32 33 34 35 36 37 38 39 40 41 42 "
     ]
    },
    {
     "ename": "KeyboardInterrupt",
     "evalue": "",
     "output_type": "error",
     "traceback": [
      "\u001b[0;31m---------------------------------------------------------------------------\u001b[0m",
      "\u001b[0;31mKeyboardInterrupt\u001b[0m                         Traceback (most recent call last)",
      "\u001b[0;32m<ipython-input-26-e723fd374801>\u001b[0m in \u001b[0;36m<module>\u001b[0;34m()\u001b[0m\n\u001b[1;32m      8\u001b[0m         \u001b[0mprint\u001b[0m\u001b[0;34m(\u001b[0m\u001b[0mi\u001b[0m\u001b[0;34m//\u001b[0m\u001b[0;36m10\u001b[0m\u001b[0;34m,\u001b[0m\u001b[0mend\u001b[0m\u001b[0;34m=\u001b[0m\u001b[0;34m\" \"\u001b[0m\u001b[0;34m)\u001b[0m\u001b[0;34m\u001b[0m\u001b[0m\n\u001b[1;32m      9\u001b[0m     \u001b[0;32mfor\u001b[0m \u001b[0mj\u001b[0m \u001b[0;32min\u001b[0m \u001b[0mrange\u001b[0m \u001b[0;34m(\u001b[0m\u001b[0;36m10000\u001b[0m\u001b[0;34m)\u001b[0m\u001b[0;34m:\u001b[0m\u001b[0;34m\u001b[0m\u001b[0m\n\u001b[0;32m---> 10\u001b[0;31m         \u001b[0mtemp\u001b[0m\u001b[0;34m=\u001b[0m\u001b[0mvalidation\u001b[0m\u001b[0;34m(\u001b[0m\u001b[0mw\u001b[0m\u001b[0;34m,\u001b[0m\u001b[0mb\u001b[0m\u001b[0;34m)\u001b[0m\u001b[0;34m\u001b[0m\u001b[0m\n\u001b[0m\u001b[1;32m     11\u001b[0m         \u001b[0mb\u001b[0m\u001b[0;34m+=\u001b[0m\u001b[0;36m0.001\u001b[0m\u001b[0;34m\u001b[0m\u001b[0m\n\u001b[1;32m     12\u001b[0m         \u001b[0;32mif\u001b[0m\u001b[0;34m(\u001b[0m\u001b[0mmin_validation\u001b[0m\u001b[0;34m>\u001b[0m\u001b[0mtemp\u001b[0m\u001b[0;34m)\u001b[0m\u001b[0;34m:\u001b[0m\u001b[0;34m\u001b[0m\u001b[0m\n",
      "\u001b[0;32m<ipython-input-2-a6f9392dac0b>\u001b[0m in \u001b[0;36mvalidation\u001b[0;34m(w, b)\u001b[0m\n\u001b[1;32m     25\u001b[0m     \u001b[0mnum_data\u001b[0m\u001b[0;34m=\u001b[0m\u001b[0mlen\u001b[0m\u001b[0;34m(\u001b[0m\u001b[0mtl\u001b[0m\u001b[0;34m)\u001b[0m\u001b[0;34m-\u001b[0m\u001b[0mlength\u001b[0m\u001b[0;34m\u001b[0m\u001b[0m\n\u001b[1;32m     26\u001b[0m     \u001b[0;32mfor\u001b[0m \u001b[0mi\u001b[0m \u001b[0;32min\u001b[0m \u001b[0mrange\u001b[0m \u001b[0;34m(\u001b[0m\u001b[0mlength\u001b[0m\u001b[0;34m,\u001b[0m\u001b[0mlen\u001b[0m\u001b[0;34m(\u001b[0m\u001b[0mtl\u001b[0m\u001b[0;34m)\u001b[0m\u001b[0;34m)\u001b[0m\u001b[0;34m:\u001b[0m\u001b[0;34m\u001b[0m\u001b[0m\n\u001b[0;32m---> 27\u001b[0;31m         \u001b[0my\u001b[0m\u001b[0;34m=\u001b[0m\u001b[0mw\u001b[0m\u001b[0;34m*\u001b[0m\u001b[0mtf\u001b[0m\u001b[0;34m[\u001b[0m\u001b[0mi\u001b[0m\u001b[0;34m]\u001b[0m\u001b[0;34m+\u001b[0m\u001b[0mb\u001b[0m\u001b[0;34m\u001b[0m\u001b[0m\n\u001b[0m\u001b[1;32m     28\u001b[0m         \u001b[0mloss\u001b[0m\u001b[0;34m+=\u001b[0m\u001b[0;34m(\u001b[0m\u001b[0;34m(\u001b[0m\u001b[0my\u001b[0m\u001b[0;34m-\u001b[0m\u001b[0mtl\u001b[0m\u001b[0;34m[\u001b[0m\u001b[0mi\u001b[0m\u001b[0;34m]\u001b[0m\u001b[0;34m)\u001b[0m\u001b[0;34m*\u001b[0m\u001b[0;34m(\u001b[0m\u001b[0my\u001b[0m\u001b[0;34m-\u001b[0m\u001b[0mtl\u001b[0m\u001b[0;34m[\u001b[0m\u001b[0mi\u001b[0m\u001b[0;34m]\u001b[0m\u001b[0;34m)\u001b[0m\u001b[0;34m)\u001b[0m\u001b[0;34m\u001b[0m\u001b[0m\n\u001b[1;32m     29\u001b[0m     \u001b[0mloss\u001b[0m\u001b[0;34m=\u001b[0m\u001b[0mmath\u001b[0m\u001b[0;34m.\u001b[0m\u001b[0msqrt\u001b[0m\u001b[0;34m(\u001b[0m\u001b[0mloss\u001b[0m\u001b[0;34m/\u001b[0m\u001b[0mnum_data\u001b[0m\u001b[0;34m)\u001b[0m\u001b[0;34m\u001b[0m\u001b[0m\n",
      "\u001b[0;31mKeyboardInterrupt\u001b[0m: "
     ]
    }
   ],
   "source": [
    "w=-10.0\n",
    "b=-10.0\n",
    "min_validation =15\n",
    "min_w=w\n",
    "min_b=b\n",
    "for i in range (10000):\n",
    "    if(i%10==0):\n",
    "        print(i//10,end=\" \")\n",
    "    for j in range (10000):\n",
    "        temp=validation(w,b)\n",
    "        b+=0.001\n",
    "        if(min_validation>temp):\n",
    "            min_validation=temp\n",
    "            min_w=w\n",
    "            min_b=b\n",
    "            print(i,j,min_validation,min_w,min_b)\n",
    "        b-=10.0\n",
    "    w+0.001\n",
    "print(min_validation,min_w,min_b)"
   ]
  },
  {
   "cell_type": "code",
   "execution_count": null,
   "metadata": {},
   "outputs": [],
   "source": []
  },
  {
   "cell_type": "code",
   "execution_count": 205,
   "metadata": {
    "scrolled": true
   },
   "outputs": [
    {
     "data": {
      "text/plain": [
       "'34'"
      ]
     },
     "execution_count": 205,
     "metadata": {},
     "output_type": "execute_result"
    }
   ],
   "source": [
    "test[5][0]"
   ]
  },
  {
   "cell_type": "code",
   "execution_count": 220,
   "metadata": {},
   "outputs": [],
   "source": [
    "train  = pd.read_csv(\"train.csv\", encoding=\"big5\",header=None)\n",
    "test   = pd.read_csv(\"test.csv\", encoding=\"big5\" ,header=None)\n",
    "create_csv_onlypm25 ()"
   ]
  },
  {
   "cell_type": "code",
   "execution_count": 219,
   "metadata": {},
   "outputs": [],
   "source": [
    "def create_csv_onlypm25 ():\n",
    "    global train\n",
    "    global test\n",
    "    index = 10\n",
    "    pm25= []\n",
    "    new_index=0\n",
    "    for i in range (12):\n",
    "        for j in range (20):\n",
    "            pm25.append([])\n",
    "            for k in range (0,27):\n",
    "                pm25[new_index].append(train[k][index])\n",
    "            index+=18\n",
    "            new_index+=1\n",
    "    df =pd.DataFrame(pm25)\n",
    "    df.to_csv(\"trainpm25.csv\",header=False)\n",
    "    index = 9\n",
    "    pm25= []\n",
    "    new_index=0\n",
    "    for i in range (12):\n",
    "        for j in range (20):\n",
    "            pm25.append([])\n",
    "            for k in range (0,11):\n",
    "                pm25[new_index].append(test[k][index])\n",
    "            index+=18\n",
    "            new_index+=1\n",
    "    df =pd.DataFrame(pm25)\n",
    "    df.to_csv(\"testpm25.csv\",header=False)\n",
    "    "
   ]
  },
  {
   "cell_type": "code",
   "execution_count": 159,
   "metadata": {},
   "outputs": [
    {
     "name": "stdout",
     "output_type": "stream",
     "text": [
      "2798 2383\n"
     ]
    }
   ],
   "source": [
    "x=0\n",
    "y=0\n",
    "train_feat_5 =[]\n",
    "train_label_5=[]\n",
    "for i in range (len(train_feat)):\n",
    "    if(train_feat[i] - train_label[i] > 10 or train_feat[i] - train_label[i] < (-10)):\n",
    "        x+=1\n",
    "    else:\n",
    "        y+=1\n",
    "        train_feat_5.append(train_feat[i])\n",
    "        train_label_5.append(train_label[i])\n",
    "        \n",
    "    \n",
    "print(x,y)"
   ]
  },
  {
   "cell_type": "code",
   "execution_count": null,
   "metadata": {},
   "outputs": [],
   "source": []
  }
 ],
 "metadata": {
  "kernelspec": {
   "display_name": "Python 3",
   "language": "python",
   "name": "python3"
  },
  "language_info": {
   "codemirror_mode": {
    "name": "ipython",
    "version": 3
   },
   "file_extension": ".py",
   "mimetype": "text/x-python",
   "name": "python",
   "nbconvert_exporter": "python",
   "pygments_lexer": "ipython3",
   "version": "3.6.5"
  }
 },
 "nbformat": 4,
 "nbformat_minor": 2
}
