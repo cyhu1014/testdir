{
 "cells": [
  {
   "cell_type": "code",
   "execution_count": 331,
   "metadata": {},
   "outputs": [
    {
     "name": "stdout",
     "output_type": "stream",
     "text": [
      "tf_1:  576 , tl_1:  576\n",
      "tf_2:  5652 , tl_2:  5652\n",
      "tf_1_m:  576 , tl_1_m:  576\n",
      "tf_2_m:  5652 , tl_2_m:  5652\n",
      "tf_3_m:  5748 , tl_3_m:  5748\n"
     ]
    }
   ],
   "source": [
    "\n",
    "import pandas as pd\n",
    "import  numpy as np\n",
    "import math\n",
    "from numpy.linalg import inv\n",
    "\n",
    "train  = pd.read_csv(\"train.csv\",encoding=\"big5\" ,header=None)\n",
    "test   = pd.read_csv(\"test.csv\", encoding=\"big5\" ,header=None)\n",
    "train_unmodify = []\n",
    "index=10\n",
    "train_mean=0\n",
    "train_mean_num=0\n",
    "for i in range (12):\n",
    "    train_unmodify.append([])\n",
    "    for k in range (20):\n",
    "        for j in range (3,27):\n",
    "            if(float(train[j][index])>0 and float(train[j][index])<300):\n",
    "                train_mean+=float(train[j][index])\n",
    "                train_mean_num+=1\n",
    "            train_unmodify[i].append(float(train[j][index]))\n",
    "        index+=18\n",
    "train_mean/=train_mean_num\n",
    "############train data set modify 移除過於大或過小的資料\n",
    "train_modify =[]\n",
    "for i in range (12):\n",
    "    train_modify.append([])\n",
    "    for k in range (480):\n",
    "        if(train_unmodify[i][k]>0 and  train_unmodify[i][k]<300):\n",
    "            train_modify[i].append(train_unmodify[i][k])\n",
    "        else:\n",
    "            train_modify[i].append(train_mean)\n",
    "\n",
    "            \n",
    "\n",
    "############ train data set 1 連續九小時當data 不重疊\n",
    "train_feat=[]\n",
    "train_label=[]\n",
    "for i in range (12):\n",
    "    index=0\n",
    "    while(index<len(train_unmodify[i])):\n",
    "        temp_mean=0\n",
    "        for j in range (9):\n",
    "            temp_mean+=train_unmodify[i][index]\n",
    "            index+=1\n",
    "        temp_mean/=9\n",
    "        train_feat.append(temp_mean)\n",
    "        train_label.append(train_unmodify[i][index])\n",
    "        index+=1\n",
    "print(\"tf_1: \",len(train_feat),\", tl_1: \",(len(train_label)))\n",
    "############ train data set 2 連續九小時當資料 重疊\n",
    "train_feat_2=[]\n",
    "train_label_2=[]\n",
    "for i in range (12):\n",
    "    index=0\n",
    "    for j in range (471):\n",
    "        temp_mean=0\n",
    "        for k in range (j,j+9):\n",
    "            temp_mean+=train_unmodify[i][k]\n",
    "        temp_mean/=9.0\n",
    "        train_feat_2.append(temp_mean)\n",
    "        train_label_2.append(train_unmodify[i][j+9])\n",
    "print(\"tf_2: \",len(train_feat_2),\", tl_2: \",(len(train_label_2)))\n",
    "\n",
    "###########train data set 1_m 使用修過的資料\n",
    "train_feat_m=[]\n",
    "train_label_m=[]\n",
    "\n",
    "for i in range (12):\n",
    "    index=0\n",
    "    while(index<len(train_modify[i])):\n",
    "        temp_mean=0\n",
    "        for j in range (9):\n",
    "            temp_mean+=train_modify[i][index]\n",
    "            index+=1\n",
    "        temp_mean/=9\n",
    "        train_feat_m.append(temp_mean)\n",
    "        train_label_m.append(train_modify[i][index])\n",
    "        index+=1\n",
    "print(\"tf_1_m: \",len(train_feat_m),\", tl_1_m: \",(len(train_label_m)))\n",
    "\n",
    "############ train data set 2_m 連續九小時當資料 重疊 使用modify的資料\n",
    "train_feat_2_m=[]\n",
    "train_label_2_m=[]\n",
    "for i in range (12):\n",
    "    index=0\n",
    "    for j in range (471):\n",
    "        temp_mean=0\n",
    "        for k in range (j,j+9):\n",
    "            temp_mean+=train_modify[i][k]\n",
    "        temp_mean/=9.0\n",
    "        train_feat_2_m.append(temp_mean)\n",
    "        train_label_2_m.append(train_modify[i][j+9])\n",
    "print(\"tf_2_m: \",len(train_feat_2_m),\", tl_2_m: \",(len(train_label_2_m)))\n",
    "############ train data set 3_m 連續5小時當資料 重疊 使用modify的資料\n",
    "train_feat_3_m=[]\n",
    "train_label_3_m=[]\n",
    "x=1\n",
    "for i in range (12):\n",
    "    index=0\n",
    "    for j in range (480-x):\n",
    "        temp_mean=0\n",
    "        for k in range (j,j+x):\n",
    "            temp_mean+=train_modify[i][k]\n",
    "        temp_mean/=x\n",
    "        train_feat_3_m.append(temp_mean)\n",
    "        train_label_3_m.append(train_modify[i][j+x])\n",
    "print(\"tf_3_m: \",len(train_feat_3_m),\", tl_3_m: \",(len(train_label_3_m)))"
   ]
  },
  {
   "cell_type": "code",
   "execution_count": 310,
   "metadata": {},
   "outputs": [],
   "source": [
    "tf=train_feat_3_m\n",
    "tl=train_label_3_m"
   ]
  },
  {
   "cell_type": "code",
   "execution_count": 328,
   "metadata": {},
   "outputs": [
    {
     "name": "stdout",
     "output_type": "stream",
     "text": [
      "1 2 3 4 5 6 7 8 9 10 7.809680388574627 0.9861811549129259 2.999266677444085 7.320271026288339\n"
     ]
    },
    {
     "data": {
      "image/png": "[encoded data removed]",
      "text/plain": [
       "<Figure size 432x288 with 1 Axes>"
      ]
     },
     "metadata": {},
     "output_type": "display_data"
    }
   ],
   "source": [
    "import matplotlib.pyplot as plt\n",
    "\n",
    "\n",
    "loss_list=[]\n",
    "validation_list=[]\n",
    "num=len(tl)*9//10\n",
    "(l,w,b,lw,lb)=(0,1, 3,1e-8,1e-8)\n",
    "iteration=1\n",
    "ada=0\n",
    "for i in range (10000):\n",
    "    if(iteration%1000==0):\n",
    "        print(iteration//1000,end=\" \")\n",
    "    iteration+=1\n",
    "    ls=0\n",
    "    w_total=0\n",
    "    b_total=0\n",
    "    times=0\n",
    "    for j in range(1):\n",
    "        (l,w,b,lw,lb,loss_square)=gd(w,b,lw,lb)\n",
    "        w_total+=w\n",
    "        b_total+=b\n",
    "        ls+=loss_square\n",
    "        times+=1\n",
    "    w_total/=times\n",
    "    b_total/=times\n",
    "    ls/=times\n",
    "    w=w_total\n",
    "    b=b_total\n",
    "    validation_list.append(validation (w,b))\n",
    "    loss_list.append(ls)\n",
    "    if(iteration >10 and loss_list[len(loss_list)-2]-loss_list[len(loss_list)-1]<0.00000001):\n",
    "        print(iteration)\n",
    "        break\n",
    "plt.plot(loss_list,color=\"orange\",label=\"loss_train\")\n",
    "plt.plot(validation_list,label=\"loss_val\")\n",
    "plt.legend()\n",
    "plt.savefig('loss.jpg')\n",
    "print (validation (w,b),w,b,ls)\n"
   ]
  },
  {
   "cell_type": "code",
   "execution_count": 322,
   "metadata": {},
   "outputs": [],
   "source": [
    "def gd (w,b,lr_w,lr_b):\n",
    "    global tl,tf,iteration,ada\n",
    "    ada+=iteration**2\n",
    "    sqrt_ada =math.sqrt(ada)\n",
    "    length=len(tl)*9//10\n",
    "    loss_square=0\n",
    "    loss=0\n",
    "    w_next=0\n",
    "    b_next=0\n",
    "    for i in range (0,length):\n",
    "        y=w*tf[i]+b\n",
    "        loss+=((y-tl[i])*(y-tl[i]))\n",
    "        w_next+=2*(tl[i]-y)*(-tl[i])\n",
    "        b_next+=2*(tl[i]-y)*(-1)\n",
    "    loss_square=math.sqrt(loss/length)\n",
    "    w_next=w_next*(-1)*lr_w/sqrt_ada+w\n",
    "    b_next=b_next*(-1)*lr_b/sqrt_ada+b\n",
    "    lr_w/=1\n",
    "    lr_b/=1\n",
    "    return loss,w_next,b_next,lr_w,lr_b,loss_square\n",
    "\n",
    "\n",
    "\n",
    "def validation (w,b):\n",
    "    global tl,tf\n",
    "    loss_train=0\n",
    "    loss_val=0\n",
    "    length=len(tl)*9//10\n",
    "    num_data=len(tl)-length\n",
    "    for i in range (length):\n",
    "        y=w*tf[i]+b\n",
    "        loss_train+=(y-tl[i])**2\n",
    "    loss_train=math.sqrt(loss_train/length)\n",
    "    for i in range (length,len(tl)):\n",
    "        y=w*tf[i]+b\n",
    "        loss_val+=(y-tl[i])**2\n",
    "    loss_val=math.sqrt(loss_val/num_data)\n",
    "    return loss_val\n",
    "\n",
    "def min_square_error ():\n",
    "    global tl,tf\n",
    "    x=tf\n",
    "    x=tf[:len(x)*9//10]\n",
    "    y=tl[:len(x)*9//10]\n",
    "    length=(len(x)*9//10)\n",
    "    cons=[]\n",
    "    for i in range (length):\n",
    "        cons.append(1)\n",
    "\n",
    "    a=0    #  [ a b ]\n",
    "    b=0    # [ c d ]\n",
    "    c=0\n",
    "    d=0\n",
    "    ya=0    # [ya]\n",
    "    yb=0    #[yb]\n",
    "    print(length)\n",
    "    for i in range (length):\n",
    "        temp=x[i]*x[i]\n",
    "        a+=temp\n",
    "        temp=x[i]*cons[i]\n",
    "        b+=temp\n",
    "        c+=temp\n",
    "        temp=cons[i]*cons[i]\n",
    "        d+=temp\n",
    "    for i in range (length):\n",
    "        temp=y[i]*x[i]\n",
    "        ya+=temp\n",
    "        yb+=y[i]\n",
    "    a = np.array([[a, b], [c, d]])\n",
    "    ainv = inv(a)\n",
    "    w=ainv[0][0]*ya+ainv[0][1]*yb\n",
    "    b=ainv[1][0]*ya +ainv[1][1]*yb\n",
    "    print(w,\",\",b)\n",
    "    print(validation(w , b))"
   ]
  },
  {
   "cell_type": "code",
   "execution_count": 309,
   "metadata": {},
   "outputs": [
    {
     "name": "stdout",
     "output_type": "stream",
     "text": [
      "4655\n",
      "0.9256310695711472 , 1.945155103750011\n",
      "(6.7359127670345345, 7.274093825124253)\n"
     ]
    }
   ],
   "source": [
    "min_square_error()"
   ]
  },
  {
   "cell_type": "code",
   "execution_count": 302,
   "metadata": {},
   "outputs": [],
   "source": [
    "def create_test_submission(w,b):\n",
    "    x=1\n",
    "\n",
    "\n",
    "    test_feat= []\n",
    "    test_label=[]\n",
    "    test_title =[]\n",
    "    row=9\n",
    "    for i in range(260):\n",
    "        pm25_mean=0\n",
    "        for j in range(11-x,11):\n",
    "            pm25_mean+=float(test[j][row])\n",
    "            test_feat.append(pm25_mean/x)\n",
    "        row+=18\n",
    "    test_title.append(\"id\")\n",
    "    test_label.append(\"value\")\n",
    "    for i in range (260):\n",
    "        test_title.append(\"id_\"+str(i))\n",
    "        test_label.append(test_feat[i]*w+b)\n",
    "\n",
    "    df =pd.DataFrame(test_label,test_title)\n",
    "    df.to_csv(\"my_submission.csv\",header=False)"
   ]
  },
  {
   "cell_type": "code",
   "execution_count": 223,
   "metadata": {},
   "outputs": [],
   "source": [
    "create_test_submission(1.1576434573441632 ,-4.030020399205961)"
   ]
  },
  {
   "cell_type": "code",
   "execution_count": 306,
   "metadata": {},
   "outputs": [
    {
     "data": {
      "text/plain": [
       "(6.735384775135191, 7.272951297186333)"
      ]
     },
     "execution_count": 306,
     "metadata": {},
     "output_type": "execute_result"
    }
   ],
   "source": [
    "validation(0.9287804162871807 , 1.9192282475441789)"
   ]
  },
  {
   "cell_type": "code",
   "execution_count": 143,
   "metadata": {
    "collapsed": true
   },
   "outputs": [
    {
     "name": "stdout",
     "output_type": "stream",
     "text": [
      "58.888888888888886 58.0\n",
      "59.22222222222222 59.0\n",
      "60.111111111111114 57.0\n",
      "61.77777777777778 59.0\n",
      "61.666666666666664 64.0\n",
      "59.888888888888886 64.0\n",
      "56.77777777777778 60.0\n",
      "54.333333333333336 55.0\n",
      "52.666666666666664 54.0\n",
      "51.333333333333336 61.0\n",
      "49.666666666666664 67.0\n",
      "48.55555555555556 72.0\n",
      "49.0 58.0\n",
      "50.77777777777778 48.0\n",
      "53.333333333333336 36.0\n",
      "54.888888888888886 38.0\n",
      "55.22222222222222 40.0\n",
      "55.77777777777778 42.0\n",
      "56.44444444444444 46.0\n",
      "56.111111111111114 57.0\n",
      "51.888888888888886 76.0\n",
      "44.44444444444444 74.0\n",
      "37.333333333333336 71.0\n",
      "31.0 50.0\n",
      "27.666666666666668 41.0\n",
      "26.77777777777778 45.0\n",
      "25.88888888888889 48.0\n",
      "25.11111111111111 43.0\n",
      "25.333333333333332 19.0\n",
      "28.22222222222222 9.0\n",
      "32.55555555555556 10.0\n",
      "36.333333333333336 14.0\n",
      "39.0 20.0\n",
      "40.55555555555556 33.0\n",
      "41.333333333333336 37.0\n",
      "43.22222222222222 41.0\n",
      "45.888888888888886 45.0\n",
      "48.44444444444444 45.0\n",
      "51.77777777777778 48.0\n",
      "54.888888888888886 44.0\n",
      "59.111111111111114 38.0\n",
      "62.55555555555556 34.0\n",
      "65.66666666666667 40.0\n",
      "67.33333333333333 54.0\n",
      "68.66666666666667 65.0\n",
      "68.44444444444444 68.0\n",
      "66.22222222222223 75.0\n",
      "60.55555555555556 76.0\n",
      "53.666666666666664 82.0\n",
      "46.55555555555556 69.0\n",
      "41.0 62.0\n",
      "36.888888888888886 55.0\n",
      "34.55555555555556 66.0\n",
      "32.55555555555556 63.0\n",
      "30.444444444444443 48.0\n",
      "29.333333333333332 24.0\n",
      "30.88888888888889 14.0\n",
      "33.22222222222222 18.0\n",
      "35.44444444444444 19.0\n",
      "37.55555555555556 25.0\n",
      "39.44444444444444 34.0\n",
      "40.22222222222222 48.0\n",
      "39.888888888888886 44.0\n",
      "40.111111111111114 38.0\n",
      "41.77777777777778 38.0\n",
      "43.666666666666664 35.0\n",
      "45.44444444444444 38.0\n",
      "46.22222222222222 38.0\n",
      "46.77777777777778 42.0\n",
      "47.0 41.0\n",
      "47.22222222222222 45.0\n",
      "46.55555555555556 46.0\n",
      "45.0 53.0\n",
      "43.0 55.0\n",
      "41.666666666666664 51.0\n",
      "41.888888888888886 45.0\n",
      "43.55555555555556 43.0\n",
      "46.333333333333336 44.0\n",
      "49.55555555555556 43.0\n",
      "52.666666666666664 39.0\n",
      "55.55555555555556 32.0\n",
      "59.22222222222222 35.0\n",
      "63.111111111111114 43.0\n",
      "67.44444444444444 53.0\n",
      "71.66666666666667 60.0\n",
      "75.88888888888889 68.0\n",
      "79.88888888888889 73.0\n",
      "83.44444444444444 71.0\n",
      "87.44444444444444 65.0\n",
      "91.66666666666667 65.0\n",
      "94.77777777777777 70.0\n",
      "96.22222222222223 82.0\n",
      "95.66666666666667 91.0\n",
      "93.77777777777777 98.0\n",
      "90.55555555555556 104.0\n",
      "86.22222222222223 105.0\n",
      "81.88888888888889 107.0\n",
      "78.33333333333333 103.0\n",
      "75.66666666666667 93.0\n",
      "75.44444444444444 83.0\n"
     ]
    }
   ],
   "source": [
    "for i in range (100):\n",
    "    print(train_feat_2[i],tf[i])\n",
    "\n"
   ]
  },
  {
   "cell_type": "code",
   "execution_count": 305,
   "metadata": {},
   "outputs": [
    {
     "data": {
      "text/plain": [
       "47.931668929625275"
      ]
     },
     "execution_count": 305,
     "metadata": {},
     "output_type": "execute_result"
    }
   ],
   "source": []
  },
  {
   "cell_type": "code",
   "execution_count": null,
   "metadata": {},
   "outputs": [],
   "source": []
  },
  {
   "cell_type": "code",
   "execution_count": 329,
   "metadata": {},
   "outputs": [
    {
     "name": "stdout",
     "output_type": "stream",
     "text": [
      "0.9287804162871807 , 1.9192282475441789\n"
     ]
    },
    {
     "name": "stderr",
     "output_type": "stream",
     "text": [
      "/Users/kayuuko/anaconda3/lib/python3.6/site-packages/ipykernel_launcher.py:5: FutureWarning: `rcond` parameter will change to the default of machine precision times ``max(M, N)`` where M and N are the input matrix dimensions.\n",
      "To use the future default and silence this warning we advise to pass `rcond=None`, to keep using the old, explicitly pass `rcond=-1`.\n",
      "  \"\"\"\n"
     ]
    },
    {
     "data": {
      "image/png": "[encoded data removed]",
      "text/plain": [
       "<Figure size 432x288 with 1 Axes>"
      ]
     },
     "metadata": {},
     "output_type": "display_data"
    },
    {
     "name": "stdout",
     "output_type": "stream",
     "text": [
      "7.272951297186333\n"
     ]
    }
   ],
   "source": [
    "length = len(tf)*9//10\n",
    "x=np.array(tf[:length])\n",
    "y=np.array(tl[:length])\n",
    "A = np.vstack([x, np.ones(len(x))]).T\n",
    "w, b = np.linalg.lstsq(A, y)[0]\n",
    "print(w,\",\", b)\n",
    "import matplotlib.pyplot as plt\n",
    "plt.plot(x, y, 'o', label='Original data', markersize=1)\n",
    "plt.plot(x, w*x + b, 'r', label='Fitted line')\n",
    "plt.legend()\n",
    "plt.show()\n",
    "print(validation(w,b))\n",
    "create_test_submission(w,b)"
   ]
  },
  {
   "cell_type": "code",
   "execution_count": 308,
   "metadata": {},
   "outputs": [
    {
     "data": {
      "text/plain": [
       "47.931668929625275"
      ]
     },
     "execution_count": 308,
     "metadata": {},
     "output_type": "execute_result"
    }
   ],
   "source": [
    "from sklearn.metrics import mean_squared_error\n",
    "mean_squared_error(tf,tl)"
   ]
  },
  {
   "cell_type": "code",
   "execution_count": 233,
   "metadata": {},
   "outputs": [
    {
     "data": {
      "text/plain": [
       "[12, 44, 56, 45, 34, 3, 56, 4, 33, 44, 56]"
      ]
     },
     "execution_count": 233,
     "metadata": {},
     "output_type": "execute_result"
    }
   ],
   "source": []
  },
  {
   "cell_type": "code",
   "execution_count": null,
   "metadata": {},
   "outputs": [],
   "source": []
  }
 ],
 "metadata": {
  "kernelspec": {
   "display_name": "Python 3",
   "language": "python",
   "name": "python3"
  },
  "language_info": {
   "codemirror_mode": {
    "name": "ipython",
    "version": 3
   },
   "file_extension": ".py",
   "mimetype": "text/x-python",
   "name": "python",
   "nbconvert_exporter": "python",
   "pygments_lexer": "ipython3",
   "version": "3.6.5"
  }
 },
 "nbformat": 4,
 "nbformat_minor": 2
}
